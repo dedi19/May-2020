{
 "cells": [
  {
   "cell_type": "code",
   "execution_count": 4,
   "metadata": {},
   "outputs": [
    {
     "name": "stdout",
     "output_type": "stream",
     "text": [
      " This script belongs to Dedi Erianto Manullang\n",
      "['10' '20' '30' '40']\n"
     ]
    }
   ],
   "source": [
    "print(\" This script belongs to Dedi Erianto Manullang\")\n",
    "# PANDAS PYTHON \n",
    "import pandas as pd\n",
    "import numpy as np\n",
    "data = np.array(['10','20','30','40'])\n",
    "karakter = pd.Series(data)\n",
    "print(data)"
   ]
  },
  {
   "cell_type": "code",
   "execution_count": null,
   "metadata": {},
   "outputs": [],
   "source": []
  }
 ],
 "metadata": {
  "kernelspec": {
   "display_name": "Python 3",
   "language": "python",
   "name": "python3"
  },
  "language_info": {
   "codemirror_mode": {
    "name": "ipython",
    "version": 3
   },
   "file_extension": ".py",
   "mimetype": "text/x-python",
   "name": "python",
   "nbconvert_exporter": "python",
   "pygments_lexer": "ipython3",
   "version": "3.7.4"
  }
 },
 "nbformat": 4,
 "nbformat_minor": 4
}

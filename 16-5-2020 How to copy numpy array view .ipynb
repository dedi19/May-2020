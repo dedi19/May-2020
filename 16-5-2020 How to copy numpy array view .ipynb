{
 "cells": [
  {
   "cell_type": "code",
   "execution_count": 14,
   "metadata": {},
   "outputs": [
    {
     "name": "stdout",
     "output_type": "stream",
     "text": [
      " This script belongs to Dedi Erianto Manullang\n",
      "[ 25  75 100 125 150 175 200]\n",
      "[ 50  75 100 125 150 175 200]\n"
     ]
    }
   ],
   "source": [
    "print(\" This script belongs to Dedi Erianto Manullang\")\n",
    "# HOW TO COPY AND VIEW NUMPY ARRAY\n",
    "\n",
    "import numpy as np\n",
    "\n",
    "arr = np.array([50,75,100,125,150,175,200])\n",
    "x = arr.copy()\n",
    "arr[0] = 25\n",
    "\n",
    "print(arr)\n",
    "print(x)"
   ]
  },
  {
   "cell_type": "code",
   "execution_count": null,
   "metadata": {},
   "outputs": [],
   "source": []
  },
  {
   "cell_type": "code",
   "execution_count": null,
   "metadata": {},
   "outputs": [],
   "source": []
  }
 ],
 "metadata": {
  "kernelspec": {
   "display_name": "Python 3",
   "language": "python",
   "name": "python3"
  },
  "language_info": {
   "codemirror_mode": {
    "name": "ipython",
    "version": 3
   },
   "file_extension": ".py",
   "mimetype": "text/x-python",
   "name": "python",
   "nbconvert_exporter": "python",
   "pygments_lexer": "ipython3",
   "version": "3.7.4"
  }
 },
 "nbformat": 4,
 "nbformat_minor": 4
}

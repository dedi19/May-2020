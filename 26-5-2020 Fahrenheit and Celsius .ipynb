{
 "cells": [
  {
   "cell_type": "code",
   "execution_count": 12,
   "metadata": {},
   "outputs": [
    {
     "name": "stdout",
     "output_type": "stream",
     "text": [
      "22.6 :  72.68\n",
      "25.8 :  78.44\n",
      "27.3 :  81.14\n",
      "29.8 :  85.64\n"
     ]
    }
   ],
   "source": [
    "# Fahrenheit and celcius \n",
    "def fahrenheit(T_in_celsius):\n",
    "    \"\"\" returns the temperature in degrees Fahrenheit \"\"\"\n",
    "    return (T_in_celsius * 9 / 5) + 32\n",
    "\n",
    "for t in (22.6, 25.8, 27.3, 29.8):\n",
    "    print(t, \": \", fahrenheit(t))"
   ]
  },
  {
   "cell_type": "code",
   "execution_count": null,
   "metadata": {},
   "outputs": [],
   "source": []
  }
 ],
 "metadata": {
  "kernelspec": {
   "display_name": "Python 3",
   "language": "python",
   "name": "python3"
  },
  "language_info": {
   "codemirror_mode": {
    "name": "ipython",
    "version": 3
   },
   "file_extension": ".py",
   "mimetype": "text/x-python",
   "name": "python",
   "nbconvert_exporter": "python",
   "pygments_lexer": "ipython3",
   "version": "3.7.4"
  }
 },
 "nbformat": 4,
 "nbformat_minor": 4
}

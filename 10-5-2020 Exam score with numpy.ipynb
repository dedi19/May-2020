{
 "cells": [
  {
   "cell_type": "code",
   "execution_count": 33,
   "metadata": {},
   "outputs": [
    {
     "name": "stdout",
     "output_type": "stream",
     "text": [
      "MR. DEDI ENGLISH CLASS ON LINE IF YOUR SCORE 70,80,100 You pass www.dediclass.webs.com\n",
      "[70, 80, 90, 100]\n"
     ]
    }
   ],
   "source": [
    "# THIS IS EXAM SCORE IN MY ONLINE CLASS WWW.DEDICLASS.WEBS.COM\n",
    "print(\"MR. DEDI ENGLISH CLASS ON LINE IF YOUR SCORE 70,80,100 You pass www.dediclass.webs.com\")\n",
    "score=[70,80,90,100,]\n",
    "failed=[10,20,40,60,]\n",
    "passed=[70,80,90,100,]\n",
    "if score>failed:\n",
    "    print(score)\n",
    "    if score<failed:\n",
    "        print(\" YOU DON'T PASS YOUR EXAM PLEASE CONTACT MR. DEDI FOR REMEDIAL\")\n"
   ]
  },
  {
   "cell_type": "code",
   "execution_count": null,
   "metadata": {},
   "outputs": [],
   "source": []
  },
  {
   "cell_type": "code",
   "execution_count": null,
   "metadata": {},
   "outputs": [],
   "source": []
  }
 ],
 "metadata": {
  "kernelspec": {
   "display_name": "Python 3",
   "language": "python",
   "name": "python3"
  },
  "language_info": {
   "codemirror_mode": {
    "name": "ipython",
    "version": 3
   },
   "file_extension": ".py",
   "mimetype": "text/x-python",
   "name": "python",
   "nbconvert_exporter": "python",
   "pygments_lexer": "ipython3",
   "version": "3.7.4"
  }
 },
 "nbformat": 4,
 "nbformat_minor": 4
}

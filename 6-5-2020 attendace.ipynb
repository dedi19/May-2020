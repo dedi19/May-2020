{
 "cells": [
  {
   "cell_type": "code",
   "execution_count": null,
   "metadata": {},
   "outputs": [
    {
     "name": "stdout",
     "output_type": "stream",
     "text": [
      " WELCOME TO LECTURER OF MR DEDI PLEASE CHECK YOUR SCORE AND ATTENDANCE\n"
     ]
    }
   ],
   "source": [
    "# CLASS ATTENDANCE \n",
    "print(\" WELCOME TO LECTURER OF MR DEDI PLEASE CHECK YOUR SCORE AND ATTENDANCE\")\n",
    "grade1=float(input(\" Type the grade of the first test:\"))\n",
    "grade2=float(input(\" Type the grade of the second test:\"))\n",
    "absences=int(input(\" Type the total number of classes:\"))\n",
    "total_classes=int(input(\"Type the total number of classes:\"))\n",
    "\n",
    "avg_grade = (grade1 + grade2)/2\n",
    "attendence= (total_classes - absences)/total_classes\n",
    "\n",
    "if(avg_grade >= 6):\n",
    "    if (attendence >= 0.8):\n",
    "        print(\"The student has been approved.\")\n",
    "    else:\n",
    "        print(\" The student has failed.\")\n",
    "else:\n",
    "\n",
    "    print(\"The student has failed.\")\n",
    "    "
   ]
  },
  {
   "cell_type": "code",
   "execution_count": null,
   "metadata": {},
   "outputs": [],
   "source": []
  }
 ],
 "metadata": {
  "kernelspec": {
   "display_name": "Python 3",
   "language": "python",
   "name": "python3"
  },
  "language_info": {
   "codemirror_mode": {
    "name": "ipython",
    "version": 3
   },
   "file_extension": ".py",
   "mimetype": "text/x-python",
   "name": "python",
   "nbconvert_exporter": "python",
   "pygments_lexer": "ipython3",
   "version": "3.7.4"
  }
 },
 "nbformat": 4,
 "nbformat_minor": 4
}

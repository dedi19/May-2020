{
 "cells": [
  {
   "cell_type": "code",
   "execution_count": 22,
   "metadata": {},
   "outputs": [
    {
     "name": "stdout",
     "output_type": "stream",
     "text": [
      " THIS IS AN ADDITION LIST METHOD BY DEDI ERIANTO MANULLANG\n",
      "[7, 8, 9]\n",
      "[1, 2, 3, 4, 4, 5, 6, 7, 7, 8, 9]\n"
     ]
    }
   ],
   "source": [
    "# THIS IS ADDITION LIST \n",
    "print(\" THIS IS AN ADDITION LIST METHOD BY DEDI ERIANTO MANULLANG\")\n",
    "a=[1,2,3,4,]\n",
    "b=[4,5,6,7,]\n",
    "c=[7,8,9,]\n",
    "if a<c:\n",
    "    print(c)\n",
    "    if c>a:\n",
    "        print(a+b+c)\n",
    "\n",
    "\n"
   ]
  },
  {
   "cell_type": "code",
   "execution_count": null,
   "metadata": {},
   "outputs": [],
   "source": []
  },
  {
   "cell_type": "code",
   "execution_count": null,
   "metadata": {},
   "outputs": [],
   "source": []
  }
 ],
 "metadata": {
  "kernelspec": {
   "display_name": "Python 3",
   "language": "python",
   "name": "python3"
  },
  "language_info": {
   "codemirror_mode": {
    "name": "ipython",
    "version": 3
   },
   "file_extension": ".py",
   "mimetype": "text/x-python",
   "name": "python",
   "nbconvert_exporter": "python",
   "pygments_lexer": "ipython3",
   "version": "3.7.4"
  }
 },
 "nbformat": 4,
 "nbformat_minor": 4
}

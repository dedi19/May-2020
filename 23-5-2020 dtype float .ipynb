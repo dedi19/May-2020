{
 "cells": [
  {
   "cell_type": "code",
   "execution_count": 11,
   "metadata": {},
   "outputs": [
    {
     "name": "stdout",
     "output_type": "stream",
     "text": [
      "Dedi maullang shop\n",
      "    Item   Price\n",
      "0  Phone  2000.0\n",
      "1     TV  1500.0\n",
      "2  Radio   800.0\n"
     ]
    }
   ],
   "source": [
    "print(\"Dedi maullang shop\")\n",
    "# Panda dtype Float list of stuff price \n",
    "import pandas as pd\n",
    "items = [['Phone', 2000], ['TV', 1500], ['Radio', 800]]\n",
    "df = pd.DataFrame(items, columns=['Item', 'Price'], dtype=float)\n",
    "print(df)"
   ]
  },
  {
   "cell_type": "code",
   "execution_count": null,
   "metadata": {},
   "outputs": [],
   "source": []
  },
  {
   "cell_type": "code",
   "execution_count": null,
   "metadata": {},
   "outputs": [],
   "source": []
  }
 ],
 "metadata": {
  "kernelspec": {
   "display_name": "Python 3",
   "language": "python",
   "name": "python3"
  },
  "language_info": {
   "codemirror_mode": {
    "name": "ipython",
    "version": 3
   },
   "file_extension": ".py",
   "mimetype": "text/x-python",
   "name": "python",
   "nbconvert_exporter": "python",
   "pygments_lexer": "ipython3",
   "version": "3.7.4"
  }
 },
 "nbformat": 4,
 "nbformat_minor": 4
}

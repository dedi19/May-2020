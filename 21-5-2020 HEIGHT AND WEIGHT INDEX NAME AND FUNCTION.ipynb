{
 "cells": [
  {
   "cell_type": "code",
   "execution_count": 3,
   "metadata": {},
   "outputs": [
    {
     "name": "stdout",
     "output_type": "stream",
     "text": [
      " THIS SCRIPT BELONGS TO DEDI ERIANTO MANULLANG \n",
      "         HEIGHT  WEIGHT\n",
      "Andi        170      50\n",
      "Beni         78      60\n",
      "Cintia       99      70\n",
      "Dedi        160      80\n",
      "Erna        160      90\n",
      "Frans       130      90\n",
      "Gunawan     155      90\n",
      "Herry        70      50\n",
      "Intan        70      60\n",
      "Jane         20      70\n"
     ]
    }
   ],
   "source": [
    "print(\" THIS SCRIPT BELONGS TO DEDI ERIANTO MANULLANG \")\n",
    "# List Height and weight \n",
    "import pandas as pd\n",
    "import numpy as np\n",
    "df = pd.DataFrame({'HEIGHT': [170,78,99,160,160,130,155,70,70,20],\n",
    "                   'WEIGHT': [50,60,70,80,90,90,90,50,60,70]},\n",
    "                   index=['Andi','Beni','Cintia','Dedi','Erna','Frans','Gunawan','Herry','Intan','Jane'])\n",
    "\n",
    "print(df)"
   ]
  },
  {
   "cell_type": "code",
   "execution_count": null,
   "metadata": {},
   "outputs": [],
   "source": []
  },
  {
   "cell_type": "code",
   "execution_count": null,
   "metadata": {},
   "outputs": [],
   "source": []
  }
 ],
 "metadata": {
  "kernelspec": {
   "display_name": "Python 3",
   "language": "python",
   "name": "python3"
  },
  "language_info": {
   "codemirror_mode": {
    "name": "ipython",
    "version": 3
   },
   "file_extension": ".py",
   "mimetype": "text/x-python",
   "name": "python",
   "nbconvert_exporter": "python",
   "pygments_lexer": "ipython3",
   "version": "3.7.4"
  }
 },
 "nbformat": 4,
 "nbformat_minor": 4
}

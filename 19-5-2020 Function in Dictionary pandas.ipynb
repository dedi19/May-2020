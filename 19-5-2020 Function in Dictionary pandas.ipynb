{
 "cells": [
  {
   "cell_type": "code",
   "execution_count": 49,
   "metadata": {},
   "outputs": [
    {
     "name": "stdout",
     "output_type": "stream",
     "text": [
      "POPULATION IN ASIA BY DEDI ERIANTO MANULLANG\n",
      "     country       capital  population\n",
      "0  Indonesia       Jakarta      200.40\n",
      "1   Malaysia  Kuala lumpur      143.50\n",
      "2   Thailand       Bangkok     1252.00\n",
      "3    Vietnam         Hanoi     1357.00\n",
      "4  singapore     singapore       52.98\n"
     ]
    }
   ],
   "source": [
    "print(\"POPULATION IN ASIA BY DEDI ERIANTO MANULLANG\")\n",
    "dict = {\"country\": [\"Indonesia\", \"Malaysia\", \"Thailand\", \"Vietnam\", \"singapore\"],\n",
    "       \"capital\": [\"Jakarta\", \"Kuala lumpur\", \"Bangkok\", \"Hanoi\", \"singapore\"],\n",
    "       \"population\": [200.4, 143.5, 1252, 1357, 52.98] }\n",
    "\n",
    "import pandas as pd\n",
    "brics = pd.DataFrame(dict)\n",
    "print(brics)"
   ]
  },
  {
   "cell_type": "code",
   "execution_count": null,
   "metadata": {},
   "outputs": [],
   "source": []
  },
  {
   "cell_type": "code",
   "execution_count": null,
   "metadata": {},
   "outputs": [],
   "source": []
  }
 ],
 "metadata": {
  "kernelspec": {
   "display_name": "Python 3",
   "language": "python",
   "name": "python3"
  }
 },
 "nbformat": 4,
 "nbformat_minor": 4
}
